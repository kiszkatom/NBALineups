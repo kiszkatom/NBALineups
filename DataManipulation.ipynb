{
  "nbformat": 4,
  "nbformat_minor": 0,
  "metadata": {
    "colab": {
      "name": "DataManipulation.ipynb",
      "provenance": [],
      "collapsed_sections": []
    },
    "kernelspec": {
      "name": "python3",
      "display_name": "Python 3"
    },
    "language_info": {
      "name": "python"
    }
  },
  "cells": [
    {
      "cell_type": "code",
      "metadata": {
        "id": "eMeM0cTGMHnf"
      },
      "source": [
        "import pandas as pd\n",
        "import numpy as np\n",
        "pd.set_option('display.max_columns', None, 'display.max_rows', None)"
      ],
      "execution_count": null,
      "outputs": []
    },
    {
      "cell_type": "code",
      "metadata": {
        "colab": {
          "base_uri": "https://localhost:8080/"
        },
        "id": "M4fqo0atN4vQ",
        "outputId": "bb86e6d3-6690-48c9-da5e-26b77f255e35"
      },
      "source": [
        "df_pbp = pd.read_csv('nba_pbp_2016-2019.csv')"
      ],
      "execution_count": null,
      "outputs": [
        {
          "output_type": "stream",
          "text": [
            "/usr/local/lib/python3.7/dist-packages/IPython/core/interactiveshell.py:2718: DtypeWarning: Columns (71,89,90) have mixed types.Specify dtype option on import or set low_memory=False.\n",
            "  interactivity=interactivity, compiler=compiler, result=result)\n"
          ],
          "name": "stderr"
        }
      ]
    },
    {
      "cell_type": "code",
      "metadata": {
        "id": "Hrfzr0KksoEb"
      },
      "source": [
        "df_id = df_pbp[['PLAYER1_ID', 'PLAYER1_NAME']]"
      ],
      "execution_count": null,
      "outputs": []
    },
    {
      "cell_type": "code",
      "metadata": {
        "id": "hr0XCAJzs3_d"
      },
      "source": [
        "df_id = df_id.drop_duplicates()\n",
        "df_id = df_id.dropna()"
      ],
      "execution_count": null,
      "outputs": []
    },
    {
      "cell_type": "code",
      "metadata": {
        "colab": {
          "base_uri": "https://localhost:8080/"
        },
        "id": "4Q-s6xy0tDtr",
        "outputId": "6df14185-84f1-4ee5-8da1-23b2580f52f3"
      },
      "source": [
        "print(df_id[df_id['PLAYER1_ID'] == '1626172'])"
      ],
      "execution_count": null,
      "outputs": [
        {
          "output_type": "stream",
          "text": [
            "      PLAYER1_ID  PLAYER1_NAME\n",
            "12289    1626172  Kevon Looney\n"
          ],
          "name": "stdout"
        }
      ]
    },
    {
      "cell_type": "code",
      "metadata": {
        "id": "iYTF4QUFtHzh"
      },
      "source": [
        "df_id.to_csv('df_index.csv', index=False)"
      ],
      "execution_count": null,
      "outputs": []
    },
    {
      "cell_type": "code",
      "metadata": {
        "id": "W0IldSWCMo4Q"
      },
      "source": [
        "df_pbp = df_pbp.drop(columns=['Unnamed: 0','EVENTMSGACTIONTYPE','PERSON1TYPE', 'PERSON2TYPE', 'PERSON3TYPE', 'HOMEDESCRIPTION', 'PERIOD', 'VISITORDESCRIPTION', 'EVENTMSGTYPE', 'EVENTNUM', 'NEUTRALDESCRIPTION', 'PCTIMESTRING', 'PLAYER1_TEAM_CITY','PLAYER1_TEAM_NICKNAME', 'PLAYER2_TEAM_CITY', 'PLAYER2_TEAM_NICKNAME', 'PLAYER3_TEAM_CITY', 'PLAYER3_TEAM_NICKNAME','SCORE','SCOREMARGIN', 'WCTIMESTRING', 'TEAM', 'TYPE', 'SUB_TYPE','JUMP_BALL_HOME_PLAYER_ID', 'JUMP_BALL_AWAY_PLAYER_ID', 'JUMP_BALL_RETRIEVED_PLAYER_ID', 'SUB_ENTERED_PLAYER_ID',  'SUB_LEAVING_PLAYER_ID', 'TEAM_FOUL_COUNT', 'FOUL_TYPE', 'TECHNICAL_PLAYER_ID', 'DOUBLE_TECHNICAL_PLAYER_ID_1', 'DOUBLE_TECHNICAL_PLAYER_ID_2', 'DOUBLE_PERSONAL_PLAYER_ID_1', 'DOUBLE_PERSONAL_PLAYER_ID_2', 'DOUBLE_PERSONAL_FOUL_COUNT_1', 'DOUBLE_PERSONAL_FOUL_COUNT_2', 'COACH_TECHNICAL', 'POINTS_SCORED', 'SHOT_TYPE', 'TEAM_TURNOVER_COUNT', 'TURNOVER_TYPE', 'POSSESSION_ID', 'PERIOD_START', 'PERIOD_END', 'TIMEOUT_TYPE', 'VIOLATION', 'VIOLATION_PLAYER_ID', 'EJECTION', 'EJECTION_PLAYER_ID'])"
      ],
      "execution_count": null,
      "outputs": []
    },
    {
      "cell_type": "code",
      "metadata": {
        "id": "wdHKM3ubgRqM"
      },
      "source": [
        "df_pbp[['PLAYER1_ID', 'HOME_PLAYER_ID_1', 'HOME_PLAYER_ID_2', 'HOME_PLAYER_ID_3', 'HOME_PLAYER_ID_4', 'HOME_PLAYER_ID_5', 'AWAY_PLAYER_ID_1', 'AWAY_PLAYER_ID_2', 'AWAY_PLAYER_ID_3', 'AWAY_PLAYER_ID_4', 'AWAY_PLAYER_ID_5']] = \\\n",
        " df_pbp[['PLAYER1_ID', 'HOME_PLAYER_ID_1', 'HOME_PLAYER_ID_2', 'HOME_PLAYER_ID_3', 'HOME_PLAYER_ID_4', 'HOME_PLAYER_ID_5', 'AWAY_PLAYER_ID_1', 'AWAY_PLAYER_ID_2', 'AWAY_PLAYER_ID_3', 'AWAY_PLAYER_ID_4', 'AWAY_PLAYER_ID_5']].astype(str)\n"
      ],
      "execution_count": null,
      "outputs": []
    },
    {
      "cell_type": "code",
      "metadata": {
        "id": "1Ildgiy8ehF6"
      },
      "source": [
        "df_pbp['lineup_h'] = df_pbp.apply(lambda x:\"_\".join(sorted(x[['HOME_PLAYER_ID_1', 'HOME_PLAYER_ID_2', 'HOME_PLAYER_ID_3', 'HOME_PLAYER_ID_4', 'HOME_PLAYER_ID_5']].astype(str).to_list())) , axis=1)"
      ],
      "execution_count": null,
      "outputs": []
    },
    {
      "cell_type": "code",
      "metadata": {
        "id": "vEwCESrGJK_R"
      },
      "source": [
        "df_pbp['lineup_a'] = df_pbp.apply(lambda x:\"_\".join(sorted(x[['AWAY_PLAYER_ID_1', 'AWAY_PLAYER_ID_2', 'AWAY_PLAYER_ID_3', 'AWAY_PLAYER_ID_4', 'AWAY_PLAYER_ID_5']].astype(str).to_list())) , axis=1)"
      ],
      "execution_count": null,
      "outputs": []
    },
    {
      "cell_type": "code",
      "metadata": {
        "id": "wmdsCSP6q6mI"
      },
      "source": [
        "df_pbp['prev_time'] = df_pbp['TIME'].shift(1)\n",
        "df_pbp['prev_time'] = df_pbp['prev_time'].fillna(0)"
      ],
      "execution_count": null,
      "outputs": []
    },
    {
      "cell_type": "code",
      "metadata": {
        "id": "nk0UZT2HsfIp"
      },
      "source": [
        "df_pbp['time_per_action'] = df_pbp['TIME'] - df_pbp['prev_time']\n",
        "df_pbp['time_per_action'] = np.where(df_pbp['time_per_action'] < 0, 0, df_pbp['time_per_action'])"
      ],
      "execution_count": null,
      "outputs": []
    },
    {
      "cell_type": "code",
      "metadata": {
        "id": "uwcIQmvk7exx"
      },
      "source": [
        "def statsCounter(stat_name, new_column_name, if_team_stat, if_home):\n",
        "  \n",
        "  if (if_home == True):\n",
        "    df_pbp[stat_name] = df_pbp[stat_name].fillna(0)\n",
        "    df_pbp[stat_name] = df_pbp[stat_name].astype(str)\n",
        "    df_pbp[stat_name] = df_pbp[stat_name].apply(lambda x: x[:-2])\n",
        "    if (if_team_stat == True):\n",
        "      df_pbp[new_column_name] = np.where((df_pbp[stat_name] == df_pbp['HOME_PLAYER_ID_5'])\n",
        "                                                  |(df_pbp[stat_name] == df_pbp['HOME_PLAYER_ID_4'])\n",
        "                                                  |(df_pbp[stat_name] == df_pbp['HOME_PLAYER_ID_3'])\n",
        "                                                  |(df_pbp[stat_name] == df_pbp['HOME_PLAYER_ID_2'])\n",
        "                                                  |(df_pbp[stat_name] == df_pbp['HOME_PLAYER_ID_1'])\n",
        "                                                  |(df_pbp[stat_name] == df_pbp['PLAYER1_ID'])\n",
        "                                                  , 1, 0)\n",
        "    else:\n",
        "      df_pbp[new_column_name] = np.where((df_pbp[stat_name] == df_pbp['HOME_PLAYER_ID_5'])\n",
        "                                                  |(df_pbp[stat_name] == df_pbp['HOME_PLAYER_ID_4'])\n",
        "                                                  |(df_pbp[stat_name] == df_pbp['HOME_PLAYER_ID_3'])\n",
        "                                                  |(df_pbp[stat_name] == df_pbp['HOME_PLAYER_ID_2'])\n",
        "                                                  |(df_pbp[stat_name] == df_pbp['HOME_PLAYER_ID_1'])\n",
        "                                                  , 1, 0)\n",
        "  else:\n",
        "    if (if_team_stat == True):\n",
        "      df_pbp[new_column_name] = np.where((df_pbp[stat_name] == df_pbp['AWAY_PLAYER_ID_5'])\n",
        "                                                  |(df_pbp[stat_name] == df_pbp['AWAY_PLAYER_ID_4'])\n",
        "                                                  |(df_pbp[stat_name] == df_pbp['AWAY_PLAYER_ID_3'])\n",
        "                                                  |(df_pbp[stat_name] == df_pbp['AWAY_PLAYER_ID_2'])\n",
        "                                                  |(df_pbp[stat_name] == df_pbp['AWAY_PLAYER_ID_1'])\n",
        "                                                  |(df_pbp[stat_name] == df_pbp['PLAYER1_ID'])\n",
        "                                                  , 1, 0)\n",
        "    else:\n",
        "      df_pbp[new_column_name] = np.where((df_pbp[stat_name] == df_pbp['AWAY_PLAYER_ID_5'])\n",
        "                                                  |(df_pbp[stat_name] == df_pbp['AWAY_PLAYER_ID_4'])\n",
        "                                                  |(df_pbp[stat_name] == df_pbp['AWAY_PLAYER_ID_3'])\n",
        "                                                  |(df_pbp[stat_name] == df_pbp['AWAY_PLAYER_ID_2'])\n",
        "                                                  |(df_pbp[stat_name] == df_pbp['AWAY_PLAYER_ID_1'])\n",
        "                                                  , 1, 0)\n"
      ],
      "execution_count": null,
      "outputs": []
    },
    {
      "cell_type": "code",
      "metadata": {
        "id": "lpc5suzxHgAc"
      },
      "source": [
        "df_pbp['prev_home_scored'] = df_pbp['HOME_SCORE'].shift(1)\n",
        "df_pbp['prev_home_scored'] = df_pbp['prev_home_scored'].fillna(0)"
      ],
      "execution_count": null,
      "outputs": []
    },
    {
      "cell_type": "code",
      "metadata": {
        "id": "divoADaEJ57U"
      },
      "source": [
        "df_pbp['scored_h'] = df_pbp['HOME_SCORE'] - df_pbp['prev_home_scored']\n",
        "df_pbp['scored_h'] = np.where(df_pbp['scored_h'] < 0, 0, df_pbp['scored_h'])"
      ],
      "execution_count": null,
      "outputs": []
    },
    {
      "cell_type": "code",
      "metadata": {
        "id": "Oz66YqICJhF2"
      },
      "source": [
        "df_pbp['prev_away_scored'] = df_pbp['AWAY_SCORE'].shift(1)\n",
        "df_pbp['prev_away_scored'] = df_pbp['prev_away_scored'].fillna(0)"
      ],
      "execution_count": null,
      "outputs": []
    },
    {
      "cell_type": "code",
      "metadata": {
        "id": "tnHnodbTHtdX"
      },
      "source": [
        "df_pbp['scored_a'] = df_pbp['AWAY_SCORE'] - df_pbp['prev_away_scored']\n",
        "df_pbp['scored_a'] = np.where(df_pbp['scored_a'] < 0, 0, df_pbp['scored_a'])"
      ],
      "execution_count": null,
      "outputs": []
    },
    {
      "cell_type": "code",
      "metadata": {
        "id": "EiQHDfxzKy9Y"
      },
      "source": [
        "df_pbp['3_pointers_made_h'] = np.where(df_pbp['scored_h'] == 3, 1, 0)\n",
        "df_pbp['2_pointers_made_h'] = np.where(df_pbp['scored_h'] == 2, 1, 0)\n",
        "df_pbp['3_pointers_made_a'] = np.where(df_pbp['scored_a'] == 3, 1, 0)\n",
        "df_pbp['2_pointers_made_a'] = np.where(df_pbp['scored_a'] == 2, 1, 0)\n",
        "df_pbp['free_throws_made_h'] = np.where(df_pbp['scored_h'] == 1, 1, 0)\n",
        "df_pbp['free_throws_made_a'] = np.where(df_pbp['scored_a'] == 1, 1, 0)"
      ],
      "execution_count": null,
      "outputs": []
    },
    {
      "cell_type": "code",
      "metadata": {
        "id": "l78TujNS9B3d"
      },
      "source": [
        "statsCounter('REBOUND_PLAYER_ID', 'rebounds_h', True, True)\n",
        "statsCounter('ASSIST_PLAYER_ID', 'assists_h', False, True)\n",
        "statsCounter('BLOCK_PLAYER_ID', 'blocks_h', False, True)\n",
        "statsCounter('FOULED_BY_PLAYER_ID', 'fouls_h', False, True)\n",
        "statsCounter('STEAL_PLAYER_ID', 'steals_h', False, True)\n",
        "statsCounter('TURNOVER_PLAYER_ID', 'turnovers_h', True, True)\n",
        "\n",
        "\n",
        "statsCounter('REBOUND_PLAYER_ID', 'rebounds_a', True, False)\n",
        "statsCounter('ASSIST_PLAYER_ID', 'assists_a', False, False)\n",
        "statsCounter('BLOCK_PLAYER_ID', 'blocks_a', False, False)\n",
        "statsCounter('FOULED_BY_PLAYER_ID', 'fouls_a', False, False)\n",
        "statsCounter('STEAL_PLAYER_ID', 'steals_a', False, False)\n",
        "statsCounter('TURNOVER_PLAYER_ID', 'turnovers_a', True, False)\n"
      ],
      "execution_count": null,
      "outputs": []
    },
    {
      "cell_type": "code",
      "metadata": {
        "id": "bCLVYG-lMHX3"
      },
      "source": [
        "df_lineups_h = df_pbp[['lineup_h', 'time_per_action', 'scored_h','2_pointers_made_h', '3_pointers_made_h', 'free_throws_made_h','assists_h', 'rebounds_h', 'blocks_h', 'steals_h', 'turnovers_h', 'fouls_h', 'scored_a']]"
      ],
      "execution_count": null,
      "outputs": []
    },
    {
      "cell_type": "code",
      "metadata": {
        "id": "RAIrxwhFNf5w"
      },
      "source": [
        "df_lineups_a = df_pbp[['lineup_a', 'time_per_action', 'scored_a','2_pointers_made_a', '3_pointers_made_a', 'free_throws_made_a','assists_a', 'rebounds_a', 'blocks_a', 'steals_a', 'turnovers_a', 'fouls_a', 'scored_h']]"
      ],
      "execution_count": null,
      "outputs": []
    },
    {
      "cell_type": "code",
      "metadata": {
        "id": "o9VzFWU4OKqE"
      },
      "source": [
        "df_lineups_h = df_lineups_h.rename(columns={\"lineup_h\": \"lineup\", \"time_per_action\": \"minutes\", \"scored_h\": \"points_scored\", \"2_pointers_made_h\": \"2_pointers_made\", \"3_pointers_made_h\": \"3_pointers_made\", \"free_throws_made_h\": \"free_throws_made\", \"assists_h\": \"assists\", \"rebounds_h\": \"rebounds\", \"blocks_h\": \"blocks\", \"steals_h\": \"steals\", \"turnovers_h\": \"turnovers\", \"fouls_h\": \"fouls\", \"scored_a\": \"points_allowed\"})"
      ],
      "execution_count": null,
      "outputs": []
    },
    {
      "cell_type": "code",
      "metadata": {
        "id": "KgIS2WzaPSo0"
      },
      "source": [
        "df_lineups_a = df_lineups_a.rename(columns={\"lineup_a\": \"lineup\", \"time_per_action\": \"minutes\", \"scored_a\": \"points_scored\", \"2_pointers_made_a\": \"2_pointers_made\", \"3_pointers_made_a\": \"3_pointers_made\", \"free_throws_made_a\": \"free_throws_made\", \"assists_a\": \"assists\", \"rebounds_a\": \"rebounds\", \"blocks_a\": \"blocks\", \"steals_a\": \"steals\", \"turnovers_a\": \"turnovers\", \"fouls_a\": \"fouls\", \"scored_h\": \"points_allowed\"})"
      ],
      "execution_count": null,
      "outputs": []
    },
    {
      "cell_type": "code",
      "metadata": {
        "id": "MXpZxui8PghG"
      },
      "source": [
        "frames = [df_lineups_h, df_lineups_a]\n",
        "df_results = pd.concat(frames)"
      ],
      "execution_count": null,
      "outputs": []
    },
    {
      "cell_type": "code",
      "metadata": {
        "id": "W8gJUFKrPyhO"
      },
      "source": [
        "df_lineups_grouped = df_results.groupby(by=[\"lineup\"]).sum()\n",
        "df_lineups_grouped['minutes'] = round(df_lineups_grouped['minutes'] / 60, 2)\n",
        "df_lineups_grouped = df_lineups_grouped[df_lineups_grouped.minutes >= 100]"
      ],
      "execution_count": null,
      "outputs": []
    },
    {
      "cell_type": "code",
      "metadata": {
        "id": "pypW63Lyds1k"
      },
      "source": [
        "df_lineups_grouped.to_csv('nba_pbp_2016-2019_grouped.csv', index=True)"
      ],
      "execution_count": null,
      "outputs": []
    }
  ]
}